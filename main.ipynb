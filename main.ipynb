{
 "cells": [
  {
   "cell_type": "code",
   "execution_count": null,
   "metadata": {},
   "outputs": [],
   "source": [
    "import requests\n",
    "\n",
    "# Substitua pelos seus valores\n",
    "access_token = 'SEU_ACCESS_TOKEN'\n",
    "video_path = 'caminho/para/seu/video.mp4'\n",
    "title = 'Título do seu vídeo'\n",
    "privacy_level = 'PUBLIC_TO_EVERYONE'  # Opções: PUBLIC_TO_EVERYONE, MUTUAL_FOLLOW_FRIENDS, FOLLOWER_OF_CREATOR, SELF_ONLY\n",
    "\n",
    "# Inicializar a postagem\n",
    "init_url = 'https://open.tiktokapis.com/v2/post/publish/video/init/'\n",
    "headers = {\n",
    "    'Authorization': f'Bearer {access_token}',\n",
    "    'Content-Type': 'application/json; charset=UTF-8'\n",
    "}\n",
    "data = {\n",
    "    'post_info': {\n",
    "        'title': title,\n",
    "        'privacy_level': privacy_level\n",
    "    },\n",
    "    'source_info': {\n",
    "        'source': 'FILE_UPLOAD',\n",
    "        'video_size': os.path.getsize(video_path),\n",
    "        'chunk_size': 10000000,  # 10MB por chunk\n",
    "        'total_chunk_count': (os.path.getsize(video_path) // 10000000) + 1\n",
    "    }\n",
    "}\n",
    "response = requests.post(init_url, json=data, headers=headers)\n",
    "if response.status_code != 200:\n",
    "    print(f'Erro na inicialização: {response.text}')\n",
    "    exit()\n",
    "\n",
    "upload_url = response.json()['data']['upload_url']\n",
    "publish_id = response.json()['data']['publish_id']\n",
    "\n",
    "# Enviar o vídeo em partes\n",
    "with open(video_path, 'rb') as video_file:\n",
    "    chunk_size = 10000000  # 10MB por chunk\n",
    "    for i in range(0, os.path.getsize(video_path), chunk_size):\n",
    "        chunk = video_file.read(chunk_size)\n",
    "        headers = {\n",
    "            'Content-Range': f'bytes {i}-{i+len(chunk)-1}/{os.path.getsize(video_path)}',\n",
    "            'Content-Type': 'video/mp4'\n",
    "        }\n",
    "        response = requests.put(upload_url, headers=headers, data=chunk)\n",
    "        if response.status_code != 200:\n",
    "            print(f'Erro no upload do chunk {i//chunk_size + 1}: {response.text}')\n",
    "            exit()\n",
    "\n",
    "# Verificar o status da postagem\n",
    "status_url = 'https://open.tiktokapis.com/v2/post/publish/status/fetch/'\n",
    "data = {'publish_id': publish_id}\n",
    "response = requests.post(status_url, json=data, headers=headers)\n",
    "if response.status_code == 200:\n",
    "    print('Vídeo publicado com sucesso!')\n",
    "else:\n",
    "    print(f'Erro ao verificar o status: {response.text}')\n"
   ]
  }
 ],
 "metadata": {
  "kernelspec": {
   "display_name": "venv",
   "language": "python",
   "name": "python3"
  },
  "language_info": {
   "codemirror_mode": {
    "name": "ipython",
    "version": 3
   },
   "file_extension": ".py",
   "mimetype": "text/x-python",
   "name": "python",
   "nbconvert_exporter": "python",
   "pygments_lexer": "ipython3",
   "version": "3.10.11"
  }
 },
 "nbformat": 4,
 "nbformat_minor": 2
}
